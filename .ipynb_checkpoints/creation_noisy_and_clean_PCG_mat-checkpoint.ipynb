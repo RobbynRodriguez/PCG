{
 "cells": [
  {
   "cell_type": "code",
   "execution_count": 11,
   "id": "49df9579",
   "metadata": {},
   "outputs": [],
   "source": [
    "from os.path import dirname, join as pjoin\n",
    "import scipy.io as sio\n",
    "import os\n",
    "import random\n",
    "import numpy as np\n",
    "import matplotlib.pyplot as plt\n",
    "\n",
    "from glob import iglob\n",
    "from scipy.io import loadmat, savemat\n",
    "from os.path import join, basename, splitext"
   ]
  },
  {
   "cell_type": "code",
   "execution_count": 76,
   "id": "6d0b1ff8",
   "metadata": {},
   "outputs": [],
   "source": [
    "\n",
    "for i in range(1, 4):\n",
    "    annots = loadmat('PCGData/S'+str(i)+'.mat')\n",
    "    annots.keys()\n",
    "    annots['noisy_sig'] = annots['x']\n",
    "    del(annots['x'])\n",
    "\n",
    "    annots['noisy_sig'] = annots['noisy_sig']/np.max(np.abs(annots['noisy_sig']))\n",
    "    a = int(np.floor(len(annots['noisy_sig'])/4000))\n",
    "    annots['noisy_sig'] = annots['noisy_sig'][:a*4000]\n",
    "\n",
    "    annots['noisy_sig'] = np.reshape(annots['noisy_sig'], (a, 4000))\n",
    "    # print(annots['noisy_sig'].shape)\n",
    "    savemat(\"PCG/\"+str(i)+\"/noisy_sig.mat\", annots)\n"
   ]
  },
  {
   "cell_type": "code",
   "execution_count": 84,
   "id": "e399f11c",
   "metadata": {},
   "outputs": [],
   "source": [
    "\n",
    "for i in range(1, 4):\n",
    "    annots = loadmat('PCGData/S'+str(i)+'_Clean.mat')\n",
    "    annots['PCG'] = annots['PCG']/np.max(np.abs(annots['PCG']))\n",
    "    # a = int(np.floor(len(annots['PCG'])/4000))\n",
    "    # annots['PCG'] = annots['PCG'][:a*4000]\n",
    "\n",
    "    # annots['PCG'] = np.reshape(annots['PCG'], (a, 4000))\n",
    "    # # print(annots['noisy_sig'].shape)\n",
    "    # print(annots['PCG'][0:100])\n",
    "    savemat(\"all_test_outputs_PCG/\"+ str(i) +\"/S\"+ str(i) +\"_clean.mat\", annots)\n"
   ]
  }
 ],
 "metadata": {
  "kernelspec": {
   "display_name": "Python 3 (ipykernel)",
   "language": "python",
   "name": "python3"
  },
  "language_info": {
   "codemirror_mode": {
    "name": "ipython",
    "version": 3
   },
   "file_extension": ".py",
   "mimetype": "text/x-python",
   "name": "python",
   "nbconvert_exporter": "python",
   "pygments_lexer": "ipython3",
   "version": "3.10.6"
  }
 },
 "nbformat": 4,
 "nbformat_minor": 5
}
